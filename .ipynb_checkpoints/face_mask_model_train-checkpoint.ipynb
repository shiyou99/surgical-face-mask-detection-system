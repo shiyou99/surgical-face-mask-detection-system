{
 "cells": [
  {
   "cell_type": "code",
   "execution_count": 1,
   "id": "a41ef60f",
   "metadata": {},
   "outputs": [],
   "source": [
    "# import the necessary packages\n",
    "from  tensorflow import keras\n",
    "from tensorflow.keras.preprocessing.image import ImageDataGenerator\n",
    "from tensorflow.keras.applications import MobileNetV2\n",
    "from tensorflow.keras.layers import AveragePooling2D\n",
    "from tensorflow.keras.layers import Dropout\n",
    "from tensorflow.keras.layers import Flatten\n",
    "from tensorflow.keras.layers import Dense\n",
    "from tensorflow.keras.layers import Input\n",
    "from tensorflow.keras.models import Model\n",
    "from tensorflow.keras.optimizers import Adam\n",
    "from tensorflow.keras.applications.mobilenet_v2 import preprocess_input\n",
    "from tensorflow.keras.preprocessing.image import img_to_array\n",
    "from tensorflow.keras.preprocessing.image import load_img\n",
    "from tensorflow.keras.utils import to_categorical\n",
    "from sklearn.preprocessing import LabelBinarizer\n",
    "from sklearn.model_selection import train_test_split\n",
    "from sklearn.metrics import classification_report\n",
    "from imutils import paths\n",
    "import tensorflow as tf\n",
    "import matplotlib.pyplot as plt\n",
    "import numpy as np\n",
    "import argparse\n",
    "import os"
   ]
  },
  {
   "cell_type": "code",
   "execution_count": 2,
   "id": "cb9ab884",
   "metadata": {},
   "outputs": [],
   "source": [
    "# initialize the initial learning rate, number of epochs,and batch size\n",
    "INIT_LR = 1e-4\n",
    "EPOCHS = 20\n",
    "BS = 32"
   ]
  },
  {
   "cell_type": "markdown",
   "id": "232c97bf",
   "metadata": {},
   "source": [
    "## Loading and pre-processing our training data"
   ]
  },
  {
   "cell_type": "code",
   "execution_count": 3,
   "id": "68d6eb5c",
   "metadata": {},
   "outputs": [],
   "source": [
    "#Our training data contained image with mask and without mask\n",
    "imagePaths_mask = []\n",
    "imagePaths_without_mask = []\n",
    "\n",
    "for filename in os.listdir(\"data/with_mask\"):\n",
    "  imagePaths_mask.append(filename)\n",
    "for filename in os.listdir(\"data/without_mask\"):\n",
    "  imagePaths_without_mask.append(filename)"
   ]
  },
  {
   "cell_type": "code",
   "execution_count": 4,
   "id": "e8837038",
   "metadata": {},
   "outputs": [
    {
     "name": "stderr",
     "output_type": "stream",
     "text": [
      "d:\\anaconda3\\envs\\face_mask\\lib\\site-packages\\PIL\\Image.py:963: UserWarning: Palette images with Transparency expressed in bytes should be converted to RGBA images\n",
      "  \"Palette images with Transparency expressed in bytes should be \"\n"
     ]
    }
   ],
   "source": [
    "data = []\n",
    "labels = []\n",
    "\n",
    "for img in imagePaths_mask:\n",
    "\n",
    "  label = 'with_mask'\n",
    "\n",
    "  image = load_img(\"data/with_mask/\"+img, target_size=(224,224))\n",
    "  image = img_to_array(image)\n",
    "  image = preprocess_input(image)\n",
    "\n",
    "  data.append(image)\n",
    "  labels.append(label)\n",
    "\n",
    "for img in imagePaths_without_mask:\n",
    "\n",
    "  label = 'without_mask'\n",
    "\n",
    "  image = load_img(\"data/without_mask/\"+img, target_size=(224,224))\n",
    "  image = img_to_array(image)\n",
    "  image = preprocess_input(image)\n",
    "\n",
    "  data.append(image)\n",
    "  labels.append(label)\n",
    "\n",
    "# convert the data and labels to NumPy arrays\n",
    "data = np.array(data, dtype=\"float32\")\n",
    "labels = np.array(labels)"
   ]
  },
  {
   "cell_type": "markdown",
   "id": "e2296c66",
   "metadata": {},
   "source": [
    "## Performing one-hot encoding on the labels"
   ]
  },
  {
   "cell_type": "code",
   "execution_count": 5,
   "id": "14611f81",
   "metadata": {},
   "outputs": [],
   "source": [
    "# perform one-hot encoding on the labels\n",
    "lb = LabelBinarizer()\n",
    "labels = lb.fit_transform(labels)\n",
    "labels = to_categorical(labels)"
   ]
  },
  {
   "cell_type": "code",
   "execution_count": 6,
   "id": "65ee9291",
   "metadata": {},
   "outputs": [
    {
     "name": "stderr",
     "output_type": "stream",
     "text": [
      "Clipping input data to the valid range for imshow with RGB data ([0..1] for floats or [0..255] for integers).\n"
     ]
    },
    {
     "data": {
      "text/plain": [
       "<matplotlib.image.AxesImage at 0x2b48d67af60>"
      ]
     },
     "execution_count": 6,
     "metadata": {},
     "output_type": "execute_result"
    },
    {
     "data": {
      "image/png": "[encoded data removed]",
      "text/plain": [
       "<Figure size 432x288 with 1 Axes>"
      ]
     },
     "metadata": {
      "needs_background": "light"
     },
     "output_type": "display_data"
    }
   ],
   "source": [
    "plt.imshow(data[0])"
   ]
  },
  {
   "cell_type": "code",
   "execution_count": 7,
   "id": "73d982ec",
   "metadata": {},
   "outputs": [],
   "source": [
    "# split training and testing data\n",
    "(trainX, testX, trainY, testY) = train_test_split(data, labels,\n",
    "    test_size=0.20, stratify=labels, random_state=42)"
   ]
  },
  {
   "cell_type": "code",
   "execution_count": 8,
   "id": "acd18901",
   "metadata": {},
   "outputs": [],
   "source": [
    "#Initialising ImageDataGenerator\n",
    "aug = ImageDataGenerator(\n",
    "    rotation_range=20,\n",
    "    zoom_range=0.15,\n",
    "    width_shift_range=0.2,\n",
    "    height_shift_range=0.2,\n",
    "    shear_range=0.15,\n",
    "    horizontal_flip=True,\n",
    "    fill_mode=\"nearest\")"
   ]
  },
  {
   "cell_type": "code",
   "execution_count": 9,
   "id": "c056ceab",
   "metadata": {},
   "outputs": [
    {
     "name": "stdout",
     "output_type": "stream",
     "text": [
      "WARNING:tensorflow:`input_shape` is undefined or non-square, or `rows` is not in [96, 128, 160, 192, 224]. Weights for input shape (224, 224) will be loaded as the default.\n"
     ]
    }
   ],
   "source": [
    "# load the MobileNetV2 network and fine tuning it\n",
    "baseModel = MobileNetV2(weights=\"imagenet\", include_top=False,\n",
    "    input_tensor=Input(shape=(224, 224, 3)))"
   ]
  },
  {
   "cell_type": "code",
   "execution_count": 11,
   "id": "09b3b9d8",
   "metadata": {},
   "outputs": [],
   "source": [
    "headModel = baseModel.output\n",
    "headModel = AveragePooling2D(pool_size=(7, 7))(headModel)\n",
    "headModel = Flatten(name=\"flatten\")(headModel)\n",
    "headModel = Dense(128, activation=\"relu\")(headModel)\n",
    "headModel = Dropout(0.5)(headModel)\n",
    "headModel = Dense(2, activation=\"softmax\")(headModel)"
   ]
  },
  {
   "cell_type": "markdown",
   "id": "670c5ed1",
   "metadata": {},
   "source": [
    "## Defining final model"
   ]
  },
  {
   "cell_type": "code",
   "execution_count": 12,
   "id": "6c5c3f01",
   "metadata": {},
   "outputs": [],
   "source": [
    "model = Model(inputs=baseModel.input, outputs=headModel)"
   ]
  },
  {
   "cell_type": "code",
   "execution_count": 13,
   "id": "d5215713",
   "metadata": {},
   "outputs": [],
   "source": [
    "#freezing base model's layers\n",
    "for layer in baseModel.layers:\n",
    "    baseModel.trainable = False"
   ]
  },
  {
   "cell_type": "code",
   "execution_count": 14,
   "id": "cd5f7bb2",
   "metadata": {},
   "outputs": [],
   "source": [
    "# compile our model\n",
    "opt = Adam(learning_rate=INIT_LR, decay=INIT_LR / EPOCHS)\n",
    "model.compile(loss=\"binary_crossentropy\", optimizer=opt,metrics=[\"accuracy\"])"
   ]
  },
  {
   "cell_type": "markdown",
   "id": "ab891e03",
   "metadata": {},
   "source": [
    "## Fitting our model"
   ]
  },
  {
   "cell_type": "code",
   "execution_count": 15,
   "id": "8555059d",
   "metadata": {},
   "outputs": [
    {
     "name": "stdout",
     "output_type": "stream",
     "text": [
      "Epoch 1/20\n",
      "188/188 [==============================] - ETA: 0s - loss: 0.4476 - accuracy: 0.8076WARNING:tensorflow:Your input ran out of data; interrupting training. Make sure that your dataset or generator can generate at least `steps_per_epoch * epochs` batches (in this case, 47 batches). You may need to use the repeat() function when building your dataset.\n",
      "188/188 [==============================] - 188s 982ms/step - loss: 0.4467 - accuracy: 0.8081 - val_loss: 0.0895 - val_accuracy: 0.9782\n",
      "Epoch 2/20\n",
      "188/188 [==============================] - 151s 800ms/step - loss: 0.1038 - accuracy: 0.9751\n",
      "Epoch 3/20\n",
      "188/188 [==============================] - 164s 873ms/step - loss: 0.0706 - accuracy: 0.9789\n",
      "Epoch 4/20\n",
      "188/188 [==============================] - 164s 870ms/step - loss: 0.0616 - accuracy: 0.9813\n",
      "Epoch 5/20\n",
      "188/188 [==============================] - 152s 803ms/step - loss: 0.0515 - accuracy: 0.9868\n",
      "Epoch 6/20\n",
      "188/188 [==============================] - 146s 776ms/step - loss: 0.0449 - accuracy: 0.9875\n",
      "Epoch 7/20\n",
      "188/188 [==============================] - 163s 864ms/step - loss: 0.0375 - accuracy: 0.9888\n",
      "Epoch 8/20\n",
      "188/188 [==============================] - 183s 969ms/step - loss: 0.0367 - accuracy: 0.9866\n",
      "Epoch 9/20\n",
      "188/188 [==============================] - 181s 960ms/step - loss: 0.0380 - accuracy: 0.9879\n",
      "Epoch 10/20\n",
      "188/188 [==============================] - 179s 951ms/step - loss: 0.0319 - accuracy: 0.9918\n",
      "Epoch 11/20\n",
      "188/188 [==============================] - 174s 921ms/step - loss: 0.0303 - accuracy: 0.9911\n",
      "Epoch 12/20\n",
      "188/188 [==============================] - 187s 995ms/step - loss: 0.0300 - accuracy: 0.9899\n",
      "Epoch 13/20\n",
      "188/188 [==============================] - 188s 996ms/step - loss: 0.0305 - accuracy: 0.9900\n",
      "Epoch 14/20\n",
      "188/188 [==============================] - 176s 935ms/step - loss: 0.0242 - accuracy: 0.9922\n",
      "Epoch 15/20\n",
      "188/188 [==============================] - 185s 981ms/step - loss: 0.0322 - accuracy: 0.9900\n",
      "Epoch 16/20\n",
      "188/188 [==============================] - 181s 961ms/step - loss: 0.0227 - accuracy: 0.9930\n",
      "Epoch 17/20\n",
      "188/188 [==============================] - 184s 976ms/step - loss: 0.0320 - accuracy: 0.9889\n",
      "Epoch 18/20\n",
      "188/188 [==============================] - 181s 962ms/step - loss: 0.0272 - accuracy: 0.9889\n",
      "Epoch 19/20\n",
      "188/188 [==============================] - 172s 912ms/step - loss: 0.0242 - accuracy: 0.9930\n",
      "Epoch 20/20\n",
      "188/188 [==============================] - 170s 903ms/step - loss: 0.0241 - accuracy: 0.9927\n"
     ]
    }
   ],
   "source": [
    "history = model.fit(\n",
    "    aug.flow(trainX, trainY, batch_size=BS),\n",
    "    steps_per_epoch=len(trainX) // BS,\n",
    "    validation_data=(testX, testY),\n",
    "    validation_steps=len(testX) // BS,\n",
    "    epochs=EPOCHS,\n",
    "    verbose = 1)"
   ]
  },
  {
   "cell_type": "markdown",
   "id": "c69fdca6",
   "metadata": {},
   "source": [
    "## Save our model into .pb and .h5 format"
   ]
  },
  {
   "cell_type": "code",
   "execution_count": 16,
   "id": "39c08582",
   "metadata": {},
   "outputs": [
    {
     "name": "stdout",
     "output_type": "stream",
     "text": [
      "INFO:tensorflow:Assets written to: models\\assets\n"
     ]
    }
   ],
   "source": [
    "model.save(\"models\")  # as .pb\n",
    "model.save(\"models/face_model.h5\")  # as .h5"
   ]
  },
  {
   "cell_type": "markdown",
   "id": "0d132cff",
   "metadata": {},
   "source": [
    "## Model Evaluation"
   ]
  },
  {
   "cell_type": "code",
   "execution_count": 17,
   "id": "c88c08a6",
   "metadata": {},
   "outputs": [
    {
     "data": {
      "image/png": "[encoded data removed]",
      "text/plain": [
       "<Figure size 432x288 with 1 Axes>"
      ]
     },
     "metadata": {
      "needs_background": "light"
     },
     "output_type": "display_data"
    },
    {
     "data": {
      "image/png": "[encoded data removed]",
      "text/plain": [
       "<Figure size 432x288 with 1 Axes>"
      ]
     },
     "metadata": {
      "needs_background": "light"
     },
     "output_type": "display_data"
    }
   ],
   "source": [
    "accuracy = history.history['accuracy']\n",
    "loss = history.history['loss']\n",
    "\n",
    "epochs = range(len(accuracy))\n",
    "\n",
    "plt.plot(epochs, accuracy, 'b', label='Training accuracy')\n",
    "plt.title('Training accuracy')\n",
    "plt.legend()\n",
    "\n",
    "plt.figure()\n",
    "\n",
    "plt.plot(epochs, loss, 'b', label='Training Loss')\n",
    "plt.title('Training loss')\n",
    "plt.legend()\n",
    "\n",
    "plt.show()"
   ]
  }
 ],
 "metadata": {
  "kernelspec": {
   "display_name": "Python 3",
   "language": "python",
   "name": "python3"
  },
  "language_info": {
   "codemirror_mode": {
    "name": "ipython",
    "version": 3
   },
   "file_extension": ".py",
   "mimetype": "text/x-python",
   "name": "python",
   "nbconvert_exporter": "python",
   "pygments_lexer": "ipython3",
   "version": "3.6.5"
  }
 },
 "nbformat": 4,
 "nbformat_minor": 5
}
