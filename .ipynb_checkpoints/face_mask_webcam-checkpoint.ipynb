{
 "cells": [
  {
   "cell_type": "code",
   "execution_count": 3,
   "metadata": {},
   "outputs": [],
   "source": [
    "import tensorflow as tf\n",
    "from tensorflow.keras.applications.mobilenet_v2 import preprocess_input\n",
    "from tensorflow.keras.preprocessing.image import img_to_array\n",
    "from tensorflow.keras.preprocessing.image import load_img\n",
    "import numpy as np\n",
    "import argparse\n",
    "import cv2\n",
    "import os\n",
    "import time"
   ]
  },
  {
   "cell_type": "markdown",
   "metadata": {},
   "source": [
    "### Load pretrained model"
   ]
  },
  {
   "cell_type": "code",
   "execution_count": 4,
   "metadata": {},
   "outputs": [],
   "source": [
    "model = tf.keras.models.load_model(\"models/face_model.h5\")"
   ]
  },
  {
   "cell_type": "markdown",
   "metadata": {},
   "source": [
    "### Loading face detection classifier"
   ]
  },
  {
   "cell_type": "code",
   "execution_count": 5,
   "metadata": {},
   "outputs": [],
   "source": [
    "face_cascade = cv2.CascadeClassifier('haarcascade_frontalface_default.xml')"
   ]
  },
  {
   "cell_type": "code",
   "execution_count": 7,
   "metadata": {},
   "outputs": [
    {
     "ename": "KeyboardInterrupt",
     "evalue": "",
     "output_type": "error",
     "traceback": [
      "\u001b[1;31m---------------------------------------------------------------------------\u001b[0m",
      "\u001b[1;31mKeyboardInterrupt\u001b[0m                         Traceback (most recent call last)",
      "\u001b[1;32m<ipython-input-7-184008ca72bc>\u001b[0m in \u001b[0;36m<module>\u001b[1;34m\u001b[0m\n\u001b[0;32m     12\u001b[0m \u001b[1;33m\u001b[0m\u001b[0m\n\u001b[0;32m     13\u001b[0m         \u001b[0mgray\u001b[0m \u001b[1;33m=\u001b[0m \u001b[0mcv2\u001b[0m\u001b[1;33m.\u001b[0m\u001b[0mcvtColor\u001b[0m\u001b[1;33m(\u001b[0m\u001b[0mimg\u001b[0m\u001b[1;33m,\u001b[0m \u001b[0mcv2\u001b[0m\u001b[1;33m.\u001b[0m\u001b[0mCOLOR_RGB2GRAY\u001b[0m\u001b[1;33m)\u001b[0m \u001b[1;31m# convert img(frame) from rgb color space to gray\u001b[0m\u001b[1;33m\u001b[0m\u001b[0m\n\u001b[1;32m---> 14\u001b[1;33m         \u001b[0mfaces\u001b[0m \u001b[1;33m=\u001b[0m \u001b[0mface_cascade\u001b[0m\u001b[1;33m.\u001b[0m\u001b[0mdetectMultiScale\u001b[0m\u001b[1;33m(\u001b[0m\u001b[0mgray\u001b[0m\u001b[1;33m,\u001b[0m \u001b[1;36m1.3\u001b[0m\u001b[1;33m,\u001b[0m \u001b[1;36m8\u001b[0m\u001b[1;33m)\u001b[0m \u001b[1;31m# (gray, 1.3, 8) => image, scaleFactor, minNeighbours\u001b[0m\u001b[1;33m\u001b[0m\u001b[0m\n\u001b[0m\u001b[0;32m     15\u001b[0m         \u001b[1;31m# if faces are found, it returns the positions of detected faces as Rect(x,y,w,h).\u001b[0m\u001b[1;33m\u001b[0m\u001b[1;33m\u001b[0m\u001b[0m\n\u001b[0;32m     16\u001b[0m \u001b[1;33m\u001b[0m\u001b[0m\n",
      "\u001b[1;31mKeyboardInterrupt\u001b[0m: "
     ]
    }
   ],
   "source": [
    "cap = cv2.VideoCapture(0) # open a camera for video capturing.\n",
    "\n",
    "while True:\n",
    "    \n",
    "    ret, img = cap.read()\n",
    "    \n",
    "    if ret == True:\n",
    "        time.sleep(1/25) # add delay in the execution of the program\n",
    "\n",
    "        gray = cv2.cvtColor(img, cv2.COLOR_RGB2GRAY) # convert img(frame) from rgb color space to gray\n",
    "        faces = face_cascade.detectMultiScale(gray, 1.3, 8) # (gray, 1.3, 8) => image, scaleFactor, minNeighbours\n",
    "        # if faces are found, it returns the positions of detected faces as Rect(x,y,w,h). \n",
    "        \n",
    "        for (x, y, w, h) in faces:\n",
    "\n",
    "            face = img[y:y+h, x:x+w]\n",
    "            face = cv2.resize(face, (224, 224))\n",
    "            face = img_to_array(face)\n",
    "            face = preprocess_input(face)\n",
    "            face = np.expand_dims(face, axis=0)\n",
    "            (mask, withoutMask) = model.predict(face)[0]\n",
    "            mask = mask*100 # accuracy of mask on\n",
    "            withoutMask = withoutMask*100 # accuracy of no mask\n",
    "\n",
    "            font = cv2.FONT_HERSHEY_SIMPLEX\n",
    "            # get text size in pixel\n",
    "            textSize = cv2.getTextSize(text=\"No Mask: \" + str(\"%.2f\" % round(mask, 2)), fontFace=cv2.FONT_HERSHEY_SIMPLEX, fontScale=1, thickness=3)\n",
    "\n",
    "            # draw a text string and rectangle on the image\n",
    "            if mask > withoutMask:\n",
    "                cv2.putText(img,\n",
    "                            text = \"Mask: \" + str(\"%.2f\" % round(mask, 2)),\n",
    "                            org = (x-5,y-20),\n",
    "                            fontFace=font,\n",
    "                            fontScale = (2*w)/textSize[0][0],\n",
    "                            color = (0, 255, 0),\n",
    "                            thickness = 3,\n",
    "                            lineType = cv2.LINE_AA)\n",
    "                cv2.rectangle(img, (x, y), (x+w, y+h), (0,255,0), 2)\n",
    "            else:\n",
    "                cv2.putText(img,\n",
    "                            text = \"No Mask: \" + str(\"%.2f\" % round(withoutMask, 2)),\n",
    "                            org = (x-5,y-20),\n",
    "                            fontFace=font,\n",
    "                            fontScale = (1.8*w)/textSize[0][0],\n",
    "                            color = (0, 0, 255),\n",
    "                            thickness = 3,\n",
    "                            lineType = cv2.LINE_AA)\n",
    "                cv2.rectangle(img, (x, y), (x+w, y+h), (0, 0, 255), 2)\n",
    "        \n",
    "        # display    \n",
    "        cv2.imshow(\"Face Mask Detection\",img)\n",
    "\n",
    "        if cv2.waitKey(1) & 0XFF == ord('q'):\n",
    "            break\n",
    "    else:\n",
    "        break\n",
    "\n",
    "# when everything done, release the capture\n",
    "cap.release()\n",
    "cv2.destroyAllWindows()"
   ]
  },
  {
   "cell_type": "code",
   "execution_count": null,
   "metadata": {},
   "outputs": [],
   "source": []
  },
  {
   "cell_type": "code",
   "execution_count": null,
   "metadata": {},
   "outputs": [],
   "source": []
  }
 ],
 "metadata": {
  "kernelspec": {
   "display_name": "Python 3",
   "language": "python",
   "name": "python3"
  },
  "language_info": {
   "codemirror_mode": {
    "name": "ipython",
    "version": 3
   },
   "file_extension": ".py",
   "mimetype": "text/x-python",
   "name": "python",
   "nbconvert_exporter": "python",
   "pygments_lexer": "ipython3",
   "version": "3.6.5"
  }
 },
 "nbformat": 4,
 "nbformat_minor": 4
}
